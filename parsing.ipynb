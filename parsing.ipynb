{
 "cells": [
  {
   "cell_type": "code",
   "execution_count": 10,
   "metadata": {},
   "outputs": [
    {
     "name": "stdout",
     "output_type": "stream",
     "text": [
      "The autoreload extension is already loaded. To reload it, use:\n",
      "  %reload_ext autoreload\n"
     ]
    }
   ],
   "source": [
    "%load_ext autoreload\n",
    "%autoreload 2"
   ]
  },
  {
   "cell_type": "code",
   "execution_count": 11,
   "metadata": {},
   "outputs": [],
   "source": [
    "import parser\n",
    "import numpy as np\n",
    "import os\n",
    "from matplotlib import pyplot as plt\n",
    "from openai import OpenAI\n",
    "import google.generativeai as genai\n",
    "import pandas as pd\n",
    "import regex as re"
   ]
  },
  {
   "cell_type": "code",
   "execution_count": 13,
   "metadata": {},
   "outputs": [],
   "source": [
    "def import_problems(file):\n",
    "  data = pd.read_csv(file)\n",
    "  problems = data[['Problem','Solution']]\n",
    "  return problems\n",
    "\n",
    "sample_problems = import_problems('example_solutions.csv')"
   ]
  },
  {
   "cell_type": "code",
   "execution_count": 14,
   "metadata": {},
   "outputs": [],
   "source": [
    "solution_list = sample_problems['Solution'].tolist()"
   ]
  },
  {
   "cell_type": "code",
   "execution_count": 15,
   "metadata": {},
   "outputs": [
    {
     "name": "stdout",
     "output_type": "stream",
     "text": [
      "['y(x) = 3^{\\\\frac{1}{3}}x (\\\\ln x)^{\\\\frac{1}{3}}']\n",
      "['I(x) = 1 - e^{-1} - \\\\left(6 - \\\\frac{16}{e}\\\\right)x^2']\n",
      "['y(x) \\\\approx \\\\frac{1}{\\\\sqrt{24}} x^4', 'y(x) = -\\\\frac{1}{\\\\sqrt{24}} x^4']\n",
      "['\\\\frac{x}{2}']\n",
      "['y=x', 'y=e^{x^3/3}', 'y=e^{-x^3/3}']\n",
      "['y(x) =  \\\\left(\\\\frac{4}{3}(2^{2/9}-1)\\\\right)^{1/2}/(x+ \\\\ln 4)^{-4']\n",
      "['y(x) = \\\\frac{14}{(x)^{9/2}}}']\n",
      "['y(x) = \\\\sqrt{2}x(\\\\ln x)^{\\\\frac{1}{4}}', 'y(x) = -\\\\sqrt{2}x(\\\\ln x)^{\\\\frac{1}{4}}']\n"
     ]
    }
   ],
   "source": [
    "for solution in solution_list:\n",
    "    print(parser.extract_solution(solution))"
   ]
  },
  {
   "cell_type": "code",
   "execution_count": null,
   "metadata": {},
   "outputs": [],
   "source": []
  }
 ],
 "metadata": {
  "kernelspec": {
   "display_name": "hardmath2",
   "language": "python",
   "name": "python3"
  },
  "language_info": {
   "codemirror_mode": {
    "name": "ipython",
    "version": 3
   },
   "file_extension": ".py",
   "mimetype": "text/x-python",
   "name": "python",
   "nbconvert_exporter": "python",
   "pygments_lexer": "ipython3",
   "version": "3.13.2"
  }
 },
 "nbformat": 4,
 "nbformat_minor": 2
}
